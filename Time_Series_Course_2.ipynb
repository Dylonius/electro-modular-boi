{
  "nbformat": 4,
  "nbformat_minor": 0,
  "metadata": {
    "colab": {
      "provenance": [],
      "authorship_tag": "ABX9TyMpY9IDs1da6bSy34ithzQZ",
      "include_colab_link": true
    },
    "kernelspec": {
      "name": "python3",
      "display_name": "Python 3"
    },
    "language_info": {
      "name": "python"
    }
  },
  "cells": [
    {
      "cell_type": "markdown",
      "metadata": {
        "id": "view-in-github",
        "colab_type": "text"
      },
      "source": [
        "<a href=\"https://colab.research.google.com/github/Dylonius/electro-modular-boi/blob/main/Time_Series_Course_2.ipynb\" target=\"_parent\"><img src=\"https://colab.research.google.com/assets/colab-badge.svg\" alt=\"Open In Colab\"/></a>"
      ]
    },
    {
      "cell_type": "code",
      "execution_count": 1,
      "metadata": {
        "id": "iVNrvqhTSlGk"
      },
      "outputs": [],
      "source": [
        "import pandas as pd"
      ]
    },
    {
      "cell_type": "code",
      "source": [
        "from google.colab import files\n",
        "uploaded = files.upload"
      ],
      "metadata": {
        "id": "QIWRX3eeSu2l"
      },
      "execution_count": 2,
      "outputs": []
    },
    {
      "cell_type": "code",
      "source": [
        "data = pd.read_csv(\"Course+DataSet.csv\",index_col=\"DATE\",parse_dates = True)"
      ],
      "metadata": {
        "id": "Xm8fPr7fS5kA"
      },
      "execution_count": 3,
      "outputs": []
    },
    {
      "cell_type": "code",
      "source": [
        "#TEST FOR STATIONARY"
      ],
      "metadata": {
        "id": "BKPQDMtiTTwk"
      },
      "execution_count": null,
      "outputs": []
    },
    {
      "cell_type": "code",
      "source": [
        "from statsmodels.tsa.stattools import adfuller\n",
        "def adf_test(series):\n",
        "  result = adfuller(series,autolag = \"AIC\")\n",
        "  labels = [\"ADF Test Statistic\", \"p-value\",\"#lags used\",\"# observations\"]\n",
        "  out = pd.Series(result[0:4],index=labels)\n",
        "  print(out.to_string())\n",
        "  if result[1] <=0.05:\n",
        "    print(\"Reject the null hypothesis. Data has no unit root and stationary\")\n",
        "  else:\n",
        "      print(\"Fail to reject the null hypothesis. Data has unit root and non-stationary\")\n",
        "\n"
      ],
      "metadata": {
        "id": "Td3eDjboTT7U"
      },
      "execution_count": 5,
      "outputs": []
    },
    {
      "cell_type": "code",
      "source": [
        "adf_test(data[\"Price\"])"
      ],
      "metadata": {
        "colab": {
          "base_uri": "https://localhost:8080/"
        },
        "id": "EZTyRNZZTUDs",
        "outputId": "daec8f4e-39ad-416d-8b2f-2d1f1023ccc5"
      },
      "execution_count": 6,
      "outputs": [
        {
          "output_type": "stream",
          "name": "stdout",
          "text": [
            "ADF Test Statistic     -2.256990\n",
            "p-value                 0.186215\n",
            "#lags used             15.000000\n",
            "# observations        381.000000\n",
            "Fail to reject the null hypothesis. Data has unit root and non-stationary\n"
          ]
        }
      ]
    }
  ]
}